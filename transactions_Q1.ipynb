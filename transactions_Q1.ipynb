{
 "cells": [
  {
   "cell_type": "markdown",
   "metadata": {},
   "source": [
    "# Bank transactions\n",
    "\n",
    "To get started let's import some libraries and take a look at our dataset."
   ]
  },
  {
   "cell_type": "code",
   "execution_count": 1,
   "metadata": {},
   "outputs": [
    {
     "name": "stdout",
     "output_type": "stream",
     "text": [
      "(30219, 7)\n"
     ]
    },
    {
     "data": {
      "text/html": [
       "<div>\n",
       "<style scoped>\n",
       "    .dataframe tbody tr th:only-of-type {\n",
       "        vertical-align: middle;\n",
       "    }\n",
       "\n",
       "    .dataframe tbody tr th {\n",
       "        vertical-align: top;\n",
       "    }\n",
       "\n",
       "    .dataframe thead th {\n",
       "        text-align: right;\n",
       "    }\n",
       "</style>\n",
       "<table border=\"1\" class=\"dataframe\">\n",
       "  <thead>\n",
       "    <tr style=\"text-align: right;\">\n",
       "      <th></th>\n",
       "      <th>t_id</th>\n",
       "      <th>acc_date</th>\n",
       "      <th>amount</th>\n",
       "      <th>fee</th>\n",
       "      <th>t_type</th>\n",
       "      <th>balance_date</th>\n",
       "      <th>acc_id</th>\n",
       "    </tr>\n",
       "  </thead>\n",
       "  <tbody>\n",
       "    <tr>\n",
       "      <th>0</th>\n",
       "      <td>0</td>\n",
       "      <td>2021-03-22 17:32:34</td>\n",
       "      <td>5000.00</td>\n",
       "      <td>9.9</td>\n",
       "      <td>TYPE_1</td>\n",
       "      <td>2021-06-15 19:17:52</td>\n",
       "      <td>1</td>\n",
       "    </tr>\n",
       "    <tr>\n",
       "      <th>1</th>\n",
       "      <td>1</td>\n",
       "      <td>2021-03-11 21:25:57</td>\n",
       "      <td>390.40</td>\n",
       "      <td>9.9</td>\n",
       "      <td>TYPE_1</td>\n",
       "      <td>2021-06-29 11:16:25</td>\n",
       "      <td>2</td>\n",
       "    </tr>\n",
       "    <tr>\n",
       "      <th>2</th>\n",
       "      <td>2</td>\n",
       "      <td>2021-06-15 13:05:43</td>\n",
       "      <td>60.45</td>\n",
       "      <td>0.0</td>\n",
       "      <td>TYPE_4</td>\n",
       "      <td>2021-08-27 22:33:16</td>\n",
       "      <td>3</td>\n",
       "    </tr>\n",
       "    <tr>\n",
       "      <th>3</th>\n",
       "      <td>3</td>\n",
       "      <td>2021-02-26 20:47:01</td>\n",
       "      <td>7000.00</td>\n",
       "      <td>9.9</td>\n",
       "      <td>TYPE_1</td>\n",
       "      <td>2021-04-16 18:29:28</td>\n",
       "      <td>4</td>\n",
       "    </tr>\n",
       "    <tr>\n",
       "      <th>4</th>\n",
       "      <td>4</td>\n",
       "      <td>2021-03-09 02:33:58</td>\n",
       "      <td>3990.00</td>\n",
       "      <td>9.9</td>\n",
       "      <td>TYPE_1</td>\n",
       "      <td>2021-07-12 14:45:40</td>\n",
       "      <td>5</td>\n",
       "    </tr>\n",
       "  </tbody>\n",
       "</table>\n",
       "</div>"
      ],
      "text/plain": [
       "   t_id             acc_date   amount  fee  t_type         balance_date  \\\n",
       "0     0  2021-03-22 17:32:34  5000.00  9.9  TYPE_1  2021-06-15 19:17:52   \n",
       "1     1  2021-03-11 21:25:57   390.40  9.9  TYPE_1  2021-06-29 11:16:25   \n",
       "2     2  2021-06-15 13:05:43    60.45  0.0  TYPE_4  2021-08-27 22:33:16   \n",
       "3     3  2021-02-26 20:47:01  7000.00  9.9  TYPE_1  2021-04-16 18:29:28   \n",
       "4     4  2021-03-09 02:33:58  3990.00  9.9  TYPE_1  2021-07-12 14:45:40   \n",
       "\n",
       "   acc_id  \n",
       "0       1  \n",
       "1       2  \n",
       "2       3  \n",
       "3       4  \n",
       "4       5  "
      ]
     },
     "execution_count": 1,
     "metadata": {},
     "output_type": "execute_result"
    }
   ],
   "source": [
    "import numpy as np\n",
    "import pandas as pd\n",
    "import matplotlib.pyplot as plt\n",
    "import seaborn as sns\n",
    "\n",
    "sns.set_theme(style=\"dark\")\n",
    "\n",
    "df = pd.read_csv('transactions_dataset.csv')\n",
    "print(df.shape)\n",
    "df.head()"
   ]
  },
  {
   "cell_type": "markdown",
   "metadata": {},
   "source": [
    "The dataset we'll be exploring is a small fintech startup transactions dataset where each line is a transaction made by a user.\n",
    "\n",
    "Let's start answering the questions."
   ]
  },
  {
   "cell_type": "markdown",
   "metadata": {},
   "source": [
    "## Q1. What kind of transactions our customers mostly do?\n",
    "\n",
    "Looking at the `t_type` field we can explore what kind of transactions we have and how they are distributed."
   ]
  },
  {
   "cell_type": "code",
   "execution_count": 2,
   "metadata": {},
   "outputs": [
    {
     "data": {
      "text/html": [
       "<div>\n",
       "<style scoped>\n",
       "    .dataframe tbody tr th:only-of-type {\n",
       "        vertical-align: middle;\n",
       "    }\n",
       "\n",
       "    .dataframe tbody tr th {\n",
       "        vertical-align: top;\n",
       "    }\n",
       "\n",
       "    .dataframe thead th {\n",
       "        text-align: right;\n",
       "    }\n",
       "</style>\n",
       "<table border=\"1\" class=\"dataframe\">\n",
       "  <thead>\n",
       "    <tr style=\"text-align: right;\">\n",
       "      <th></th>\n",
       "      <th>t_type</th>\n",
       "      <th>count</th>\n",
       "      <th>percent</th>\n",
       "    </tr>\n",
       "  </thead>\n",
       "  <tbody>\n",
       "    <tr>\n",
       "      <th>0</th>\n",
       "      <td>TYPE_1</td>\n",
       "      <td>19729</td>\n",
       "      <td>0.652867</td>\n",
       "    </tr>\n",
       "    <tr>\n",
       "      <th>1</th>\n",
       "      <td>TYPE_2</td>\n",
       "      <td>4947</td>\n",
       "      <td>0.163705</td>\n",
       "    </tr>\n",
       "    <tr>\n",
       "      <th>2</th>\n",
       "      <td>TYPE_3</td>\n",
       "      <td>3146</td>\n",
       "      <td>0.104107</td>\n",
       "    </tr>\n",
       "    <tr>\n",
       "      <th>3</th>\n",
       "      <td>TYPE_4</td>\n",
       "      <td>2397</td>\n",
       "      <td>0.079321</td>\n",
       "    </tr>\n",
       "  </tbody>\n",
       "</table>\n",
       "</div>"
      ],
      "text/plain": [
       "   t_type  count   percent\n",
       "0  TYPE_1  19729  0.652867\n",
       "1  TYPE_2   4947  0.163705\n",
       "2  TYPE_3   3146  0.104107\n",
       "3  TYPE_4   2397  0.079321"
      ]
     },
     "execution_count": 2,
     "metadata": {},
     "output_type": "execute_result"
    }
   ],
   "source": [
    "t_types_df = pd.DataFrame(df.t_type.value_counts().reset_index())\n",
    "t_types_df.columns = ['t_type', 'count']\n",
    "t_types_df['percent'] = t_types_df['count']/t_types_df['count'].sum()\n",
    "t_types_df"
   ]
  },
  {
   "cell_type": "code",
   "execution_count": 3,
   "metadata": {},
   "outputs": [
    {
     "data": {
      "image/png": "[encoded data removed]",
      "text/plain": [
       "<Figure size 360x360 with 1 Axes>"
      ]
     },
     "metadata": {},
     "output_type": "display_data"
    }
   ],
   "source": [
    "fig, ax = plt.subplots(figsize=(5,5))\n",
    "sns.barplot(x=t_types_df.t_type, y=t_types_df.percent, palette = \"rocket\")\n",
    "ax.set_title('Transaction type distribution', fontsize = 15)\n",
    "ax.set_xlabel('transaction types')\n",
    "ax.set_ylabel('distribution')\n",
    "plt.tight_layout()"
   ]
  },
  {
   "cell_type": "markdown",
   "metadata": {},
   "source": [
    "So from the distribution dataframe created and the barplot, we can tell that `TYPE_1` is the most used type of transaction by the users, reaching about 65%. This makes a lot of sense for the bank since this kind of transaction has a fee.\n",
    "\n",
    "The remaining 35% of transactions are represented by `TYPE_2`, `TYPE_3` and `TYPE_4` transactions. Those are free of charge transactions so it's good for the bank that they are the less used ones.\n",
    "\n",
    "We could go a little deeper here and look for the amount of fee this bank is charging per `TYPE_1` transaction so that we have an idea of the amount of profit the bank had over this type of transaction."
   ]
  },
  {
   "cell_type": "code",
   "execution_count": 4,
   "metadata": {},
   "outputs": [
    {
     "data": {
      "text/plain": [
       "7.45"
      ]
     },
     "execution_count": 4,
     "metadata": {},
     "output_type": "execute_result"
    }
   ],
   "source": [
    "# get the total fee mean\n",
    "total_fee_mean = round(df.fee.mean(),2)\n",
    "total_fee_mean\n",
    "# ted_fee_mean / not_ted_fee_mean"
   ]
  },
  {
   "cell_type": "code",
   "execution_count": 5,
   "metadata": {},
   "outputs": [
    {
     "data": {
      "text/plain": [
       "9.47"
      ]
     },
     "execution_count": 5,
     "metadata": {},
     "output_type": "execute_result"
    }
   ],
   "source": [
    "# get the mean of ted fee value\n",
    "ted_fee_mean = round(df[df.t_type == 'TYPE_1'].fee.mean(),2)\n",
    "ted_fee_mean"
   ]
  },
  {
   "cell_type": "code",
   "execution_count": 6,
   "metadata": {},
   "outputs": [
    {
     "data": {
      "text/plain": [
       "0.25"
      ]
     },
     "execution_count": 6,
     "metadata": {},
     "output_type": "execute_result"
    }
   ],
   "source": [
    "# get the mean of all other transactions fee value\n",
    "not_ted_fee_mean = round(df[df.t_type != 'TYPE_1'].fee.mean(),2)\n",
    "not_ted_fee_mean"
   ]
  },
  {
   "cell_type": "code",
   "execution_count": 7,
   "metadata": {},
   "outputs": [
    {
     "data": {
      "text/plain": [
       "1.27"
      ]
     },
     "execution_count": 7,
     "metadata": {},
     "output_type": "execute_result"
    }
   ],
   "source": [
    "round(ted_fee_mean / total_fee_mean, 2)"
   ]
  },
  {
   "cell_type": "markdown",
   "metadata": {},
   "source": [
    "Overall the mean of fee values is 7.45. The mean of TYPE_1 fee value is 9.47 while the mean of other transactions fee value is only 0.25.\n",
    "\n",
    "The mean fee value for TYPE_1 transfers is 27% higher than the mean fee value for all transactions.\n",
    "\n",
    "Indeed the bank's profit over fees on `TYPE_1` transactions is the most significant."
   ]
  },
  {
   "cell_type": "code",
   "execution_count": 8,
   "metadata": {},
   "outputs": [
    {
     "data": {
      "text/plain": [
       "186803.75"
      ]
     },
     "execution_count": 8,
     "metadata": {},
     "output_type": "execute_result"
    }
   ],
   "source": [
    "# get the total fee value raised over ted transactions\n",
    "round(df[df.t_type == 'TYPE_1'].fee.sum(),2)"
   ]
  },
  {
   "cell_type": "markdown",
   "metadata": {},
   "source": [
    "The total amount charged on TED fees by the bank was $186803.75."
   ]
  }
 ],
 "metadata": {
  "kernelspec": {
   "display_name": "Python 3",
   "language": "python",
   "name": "python3"
  },
  "language_info": {
   "codemirror_mode": {
    "name": "ipython",
    "version": 3
   },
   "file_extension": ".py",
   "mimetype": "text/x-python",
   "name": "python",
   "nbconvert_exporter": "python",
   "pygments_lexer": "ipython3",
   "version": "3.8.8"
  }
 },
 "nbformat": 4,
 "nbformat_minor": 4
}
